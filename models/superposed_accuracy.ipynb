{
 "cells": [
  {
   "metadata": {},
   "cell_type": "raw",
   "source": "处理叠加后的结果"
  },
  {
   "cell_type": "code",
   "metadata": {
    "collapsed": true,
    "ExecuteTime": {
     "end_time": "2025-02-17T06:54:03.757691Z",
     "start_time": "2025-02-17T06:54:03.751922Z"
    }
   },
   "source": [
    "from tabulate import tabulate\n",
    "import torch"
   ],
   "outputs": [],
   "execution_count": 4
  },
  {
   "cell_type": "markdown",
   "source": [
    "判断link里面预测为正的结果，且rel里面预测和ground truth一致的标签"
   ],
   "metadata": {
    "collapsed": false
   }
  },
  {
   "cell_type": "code",
   "source": [
    "def judge_link_rel(link_dict, rel_dict, model_name=None):\n",
    "    # 处理link预测的结果\n",
    "    indexes = torch.where(link_dict['true_label'] == 1)  # 真实存在的link：在true label里面是1的边\n",
    "    links_pred_edge = link_dict['pred_edge_index'].t()[indexes].tolist()\n",
    "    links_true_label = link_dict['true_label'][indexes].tolist()\n",
    "    links_pred_label = link_dict['pred_label'][indexes].squeeze().tolist()\n",
    "\n",
    "    assert len(links_pred_edge) == len(links_true_label) == len(links_pred_label)  # 断言预测的边和真实标签和预测的结果长度一样\n",
    "    links_pred_dict = {tuple(e):[int(tl), pl] for e, tl, pl in zip(links_pred_edge, links_true_label, links_pred_label)}  # 每个边对应的真实标签和预测标签生成字典\n",
    "\n",
    "    # 处理rel预测的结果\n",
    "    rels_edge_index = rel_dict['pred_edge_index'].T.tolist()\n",
    "    rels_true_label = rel_dict['true_label'].tolist()\n",
    "    rels_pred_label = rel_dict['pred_label'].squeeze().tolist()\n",
    "\n",
    "    assert len(rels_edge_index) == len(rels_true_label) == len(rels_pred_label)\n",
    "    rels_pred_dict = {tuple(e):[int(tl), pl] for e, tl, pl in zip(rels_edge_index, rels_true_label, rels_pred_label)}  # 每个边对应的在关系中的真实标签和预测标签\n",
    "\n",
    "    count = 0\n",
    "    for k, v in rels_pred_dict.items():\n",
    "        link_result = links_pred_dict[k]\n",
    "        if v[0] == v[1] and link_result[0] == link_result[1]:\n",
    "            count += 1\n",
    "\n",
    "    return count / len(rels_pred_dict)"
   ],
   "metadata": {
    "collapsed": false,
    "ExecuteTime": {
     "end_time": "2025-02-17T06:54:31.984622Z",
     "start_time": "2025-02-17T06:54:31.974362Z"
    }
   },
   "outputs": [],
   "execution_count": 7
  },
  {
   "cell_type": "code",
   "source": [
    "import torch\n",
    "\n",
    "link_file_name = '/data/taozekun/workspace/ed_rel/models/experiment_result_stores/best_performance_GraphSage_link_0_2019.pth'\n",
    "rel_file_name = '/data/taozekun/workspace/ed_rel/models/experiment_result_stores/best_performance_GraphSage_rel0_2019.pth'\n",
    "\n",
    "link_result_dict = torch.load(link_file_name)\n",
    "rel_result_dict = torch.load(rel_file_name)\n",
    "\n",
    "print(judge_link_rel(link_result_dict, rel_result_dict))"
   ],
   "metadata": {
    "collapsed": false,
    "ExecuteTime": {
     "end_time": "2025-02-17T06:54:35.016522Z",
     "start_time": "2025-02-17T06:54:33.952782Z"
    }
   },
   "outputs": [
    {
     "name": "stdout",
     "output_type": "stream",
     "text": [
      "0.8662218749373886\n"
     ]
    }
   ],
   "execution_count": 8
  },
  {
   "cell_type": "code",
   "source": [
    "from tabulate import tabulate\n",
    "table_header, table_data = ['neo', 'GraphSage', 'GCN', 'GAT', 'Random-feature', 'bgp2vec'], []\n",
    "   \n",
    "for i in range(20):\n",
    "    ms = []\n",
    "    for m in table_header:\n",
    "        link_file_name = f'/data/taozekun/workspace/ed_rel/models/experiment_result_stores/best_performance_{m}_link_{i}_2024.pth'\n",
    "        rel_file_name = f'/data/taozekun/workspace/ed_rel/models/experiment_result_stores/best_performance_{m}_rel{i}_2024.pth'\n",
    "        \n",
    "        if m == 'neo':\n",
    "            link_file_name = f'/data/taozekun/workspace/ed_rel/models/experiment_result_logs/0118_result_logs/link_results/best_performance_{m}_link_{i}_2024.pth'\n",
    "            rel_file_name = f'/data/taozekun/workspace/ed_rel/datasets/data_augmentation/neo_save/best_performance_{m}_rel_{i}_2024.pth'\n",
    "        \n",
    "        elif m == 'Random-feature':\n",
    "            m = 'neo'\n",
    "            link_file_name = f'/data/taozekun/workspace/ed_rel/models/experiment_result_stores/random_feature_restults_stores/best_performance_{m}_link_{i}_2024.pth'\n",
    "            rel_file_name = f'/data/taozekun/workspace/ed_rel/models/experiment_result_stores/random_feature_restults_stores/best_performance_{m}_rel{i}_2024.pth'\n",
    "        \n",
    "        elif m == 'bgp2vec':\n",
    "            link_file_name = f'/data/taozekun/workspace/ed_rel/models/experiment_result_stores/best_performance_GCN_link_{i}_2024.pth'\n",
    "            rel_file_name = f'/data/taozekun/workspace/ed_rel/models/experiment_result_stores/best_performance_{m}_rel{i}_2024.pth'\n",
    "            gcn_file_name = f'/data/taozekun/workspace/ed_rel/models/experiment_result_stores/best_performance_GCN_rel{i}_2024.pth'\n",
    "            \n",
    "        \n",
    "        link_result_dict = torch.load(link_file_name)\n",
    "        rel_result_dict = torch.load(rel_file_name)\n",
    "        if m == 'bgp2vec':\n",
    "            rel_result_dict['pred_edge_index'] = torch.load(gcn_file_name)['pred_edge_index']\n",
    "    \n",
    "        acc = judge_link_rel(link_result_dict, rel_result_dict)\n",
    "        ms.append(acc)\n",
    "    table_data.append(ms)\n",
    "\n",
    "print(tabulate(table_data, headers=table_header, tablefmt='simple'))"
   ],
   "metadata": {
    "collapsed": false,
    "ExecuteTime": {
     "end_time": "2025-02-17T06:55:17.314380Z",
     "start_time": "2025-02-17T06:54:37.299715Z"
    }
   },
   "outputs": [
    {
     "name": "stdout",
     "output_type": "stream",
     "text": [
      "     neo    GraphSage       GCN       GAT    Random-feature    bgp2vec\n",
      "--------  -----------  --------  --------  ----------------  ---------\n",
      "0.972116     0.918769  0.954515  0.965765          0.968416   0.950342\n",
      "0.968815     0.913719  0.96641   0.969226          0.970422   0.964157\n",
      "0.968571     0.896583  0.962298  0.943965          0.961367   0.958913\n",
      "0.973358     0.916519  0.973979  0.955197          0.972435   0.9686\n",
      "0.974002     0.926395  0.964981  0.938928          0.971884   0.961689\n",
      "0.966274     0.893782  0.947463  0.937519          0.968148   0.943887\n",
      "0.972148     0.879793  0.967863  0.964338          0.973181   0.965954\n",
      "0.970797     0.906613  0.954424  0.930709          0.968778   0.940236\n",
      "0.979046     0.920983  0.961663  0.95074           0.973975   0.94826\n",
      "0.959706     0.886726  0.941302  0.937735          0.960208   0.92424\n",
      "0.969657     0.906589  0.946499  0.953182          0.961003   0.944263\n",
      "0.973801     0.914436  0.957706  0.941716          0.968397   0.95444\n",
      "0.963043     0.884865  0.931129  0.910489          0.959171   0.91883\n",
      "0.979976     0.91707   0.975876  0.957108          0.981037   0.975011\n",
      "0.966431     0.909928  0.959817  0.939046          0.960517   0.956641\n",
      "0.970004     0.913148  0.95531   0.951008          0.962384   0.951202\n",
      "0.977568     0.894759  0.970915  0.95767           0.97533    0.969422\n",
      "0.975217     0.925077  0.957028  0.953232          0.971868   0.953736\n",
      "0.961918     0.885547  0.930135  0.931556          0.949719   0.915022\n",
      "0.967077     0.898178  0.959389  0.928483          0.963893   0.959727\n"
     ]
    }
   ],
   "execution_count": 9
  },
  {
   "metadata": {
    "ExecuteTime": {
     "end_time": "2025-02-12T08:38:08.913661Z",
     "start_time": "2025-02-12T08:37:32.181674Z"
    }
   },
   "cell_type": "code",
   "source": [
    "from tabulate import tabulate\n",
    "table_header, table_data = ['neo', 'GraphSage', 'GCN', 'GAT'], []\n",
    "   \n",
    "for i in range(20):\n",
    "    ms = []\n",
    "    for m in table_header:\n",
    "        link_file_name = f'/data/taozekun/workspace/ed_rel/models/experiment_result_stores/best_performance_{m}_link_{i}_2019.pth'\n",
    "        rel_file_name = f'/data/taozekun/workspace/ed_rel/models/experiment_result_stores/best_performance_{m}_rel{i}_2019.pth'\n",
    "        \n",
    "        if m == 'neo':\n",
    "            link_file_name = f'/data/taozekun/workspace/ed_rel/models/experiment_result_logs/0118_result_logs/link_results/best_performance_{m}_link_{i}_2019.pth'\n",
    "            rel_file_name = f'/data/taozekun/workspace/ed_rel/datasets/data_augmentation/neo_save/best_performance_{m}_rel_{i}_2019.pth'\n",
    "        \n",
    "        elif m == 'Random-feature':\n",
    "            m = 'neo'\n",
    "            link_file_name = f'/data/taozekun/workspace/ed_rel/models/experiment_result_stores/random_feature_restults_stores/best_performance_{m}_link_{i}_2019.pth'\n",
    "            rel_file_name = f'/data/taozekun/workspace/ed_rel/models/experiment_result_stores/random_feature_restults_stores/best_performance_{m}_rel{i}_2019.pth'\n",
    "        \n",
    "        elif m == 'bgp2vec':\n",
    "            link_file_name = f'/data/taozekun/workspace/ed_rel/models/experiment_result_stores/best_performance_GCN_link_{i}_2019.pth'\n",
    "            rel_file_name = f'/data/taozekun/workspace/ed_rel/models/experiment_result_stores/best_performance_{m}_rel{i}_2019.pth'\n",
    "            gcn_file_name = f'/data/taozekun/workspace/ed_rel/models/experiment_result_stores/best_performance_GCN_rel{i}_2019.pth'\n",
    "            \n",
    "        \n",
    "        link_result_dict = torch.load(link_file_name)\n",
    "        rel_result_dict = torch.load(rel_file_name)\n",
    "        if m == 'bgp2vec':\n",
    "            rel_result_dict['pred_edge_index'] = torch.load(gcn_file_name)['pred_edge_index']\n",
    "    \n",
    "        acc = judge_link_rel(link_result_dict, rel_result_dict)\n",
    "        ms.append(acc)\n",
    "    table_data.append(ms)\n",
    "\n",
    "print(tabulate(table_data, headers=table_header, tablefmt='simple'))"
   ],
   "outputs": [
    {
     "name": "stdout",
     "output_type": "stream",
     "text": [
      "     neo    GraphSage       GCN       GAT\n",
      "--------  -----------  --------  --------\n",
      "0.975797     0.866222  0.928473  0.88758\n",
      "0.981674     0.893197  0.931368  0.917284\n",
      "0.975806     0.883746  0.920866  0.891957\n",
      "0.979149     0.888391  0.931929  0.886648\n",
      "0.979637     0.941984  0.970247  0.923279\n",
      "0.9825       0.910549  0.94245   0.911209\n",
      "0.980669     0.885721  0.926803  0.912164\n",
      "0.978591     0.897781  0.930274  0.914854\n",
      "0.977503     0.862773  0.920862  0.896768\n",
      "0.976327     0.869384  0.932856  0.892408\n",
      "0.974852     0.896193  0.924912  0.916836\n",
      "0.98583      0.929586  0.968409  0.947226\n",
      "0.977392     0.921973  0.956001  0.926793\n",
      "0.984734     0.912696  0.949911  0.911967\n",
      "0.978347     0.92562   0.963896  0.928458\n",
      "0.981624     0.907104  0.958269  0.968249\n",
      "0.984463     0.901714  0.942737  0.938378\n",
      "0.982146     0.874937  0.923497  0.941942\n",
      "0.978664     0.933541  0.963549  0.965406\n",
      "0.982487     0.905596  0.969525  0.930073\n"
     ]
    }
   ],
   "execution_count": 8
  },
  {
   "metadata": {},
   "cell_type": "markdown",
   "source": "### Log 处理"
  },
  {
   "metadata": {
    "ExecuteTime": {
     "end_time": "2024-09-15T09:09:56.646037Z",
     "start_time": "2024-09-15T09:09:56.636996Z"
    }
   },
   "cell_type": "code",
   "source": [
    "import os\n",
    "from tabulate import tabulate"
   ],
   "outputs": [],
   "execution_count": 8
  },
  {
   "cell_type": "code",
   "source": [
    "log_file = \"/data/taozekun/workspace/ed_rel/models/experiment_result_logs/random_feature_logs/experiment_link_random_feature_neo_2024.log\"\n",
    "os.path.exists(log_file)"
   ],
   "metadata": {
    "collapsed": false,
    "ExecuteTime": {
     "end_time": "2024-09-15T09:09:57.221113Z",
     "start_time": "2024-09-15T09:09:57.213055Z"
    }
   },
   "outputs": [
    {
     "data": {
      "text/plain": [
       "True"
      ]
     },
     "execution_count": 9,
     "metadata": {},
     "output_type": "execute_result"
    }
   ],
   "execution_count": 9
  },
  {
   "metadata": {
    "ExecuteTime": {
     "end_time": "2024-09-15T09:13:33.966304Z",
     "start_time": "2024-09-15T09:13:33.958019Z"
    }
   },
   "cell_type": "code",
   "source": [
    "table_header, table_data = ['auc', 'accuracy', 'precision', 'recall', 'f1'], []\n",
    "with open(log_file, 'r') as f:\n",
    "    for line in f:\n",
    "        if line.startswith('auc'):\n",
    "            metric_list = line.strip().split(', ')\n",
    "            metrics = [float(m.split(':')[1]) for m in metric_list]\n",
    "            table_data.append(metrics)\n",
    "\n",
    "print(tabulate(table_data, headers=table_header, tablefmt='simple'))"
   ],
   "outputs": [
    {
     "name": "stdout",
     "output_type": "stream",
     "text": [
      "auc    accuracy    precision    recall    f1\n",
      "-----  ----------  -----------  --------  ----\n"
     ]
    }
   ],
   "execution_count": 12
  },
  {
   "metadata": {
    "ExecuteTime": {
     "end_time": "2024-09-15T09:04:14.005562Z",
     "start_time": "2024-09-15T09:04:13.997133Z"
    }
   },
   "cell_type": "code",
   "source": "os.path.exists(log_file)",
   "outputs": [
    {
     "data": {
      "text/plain": [
       "True"
      ]
     },
     "execution_count": 3,
     "metadata": {},
     "output_type": "execute_result"
    }
   ],
   "execution_count": 3
  },
  {
   "metadata": {
    "ExecuteTime": {
     "end_time": "2024-09-15T09:14:12.763480Z",
     "start_time": "2024-09-15T09:14:12.756799Z"
    }
   },
   "cell_type": "code",
   "source": [
    "rel_log_file = \"/data/taozekun/workspace/ed_rel/models/experiment_result_logs/random_feature_logs/experiment_rel_random_feature_neo_2024.log\"\n",
    "os.path.exists(log_file)"
   ],
   "outputs": [
    {
     "data": {
      "text/plain": [
       "True"
      ]
     },
     "execution_count": 13,
     "metadata": {},
     "output_type": "execute_result"
    }
   ],
   "execution_count": 13
  },
  {
   "metadata": {
    "ExecuteTime": {
     "end_time": "2024-09-15T09:21:21.288013Z",
     "start_time": "2024-09-15T09:21:21.275993Z"
    }
   },
   "cell_type": "code",
   "source": [
    "\n",
    "table_header, table_data = ['auc', 'accuracy', 'precision', 'recall', 'f1', 'Pos_F1'], []\n",
    "with open(rel_log_file, 'r') as f:\n",
    "    for line in f:\n",
    "        if line.startswith('AUC'):\n",
    "            metric_list = line.strip().split(', ')\n",
    "            metrics = [float(m.split(':')[1].strip()) for m in metric_list]\n",
    "            table_data.append(metrics)\n",
    "\n",
    "print(tabulate(table_data, headers=table_header, tablefmt='simple'))"
   ],
   "outputs": [
    {
     "name": "stdout",
     "output_type": "stream",
     "text": [
      "    auc    accuracy    precision    recall       f1    Pos_F1\n",
      "-------  ----------  -----------  --------  -------  --------\n",
      "86.0262     98.226       69.0871   34.924   99.0981   46.395\n",
      "83.5522     98.307       57.3427   26.4858  99.1421   36.2351\n",
      "90.9975     97.9879      59.6735   44.4194  98.9729   50.9288\n",
      "93.5634     98.7964      69.8768   47.7795  99.3897   56.7531\n",
      "84.4454     97.9719      68.1628   29.7359  98.9681   41.4077\n",
      "87.9922     97.5526      63.875    24.7698  98.7526   35.6968\n",
      "88.0027     98.3201      66.6667   34.2593  99.147    45.2599\n",
      "90.8487     97.8304      74.5763   52.3207  98.8838   61.4968\n",
      "92.7427     97.9703      62.7768   38.0485  98.9652   47.3803\n",
      "93.8304     97.8639      74.7214   46.9584  98.9043   57.6727\n",
      "81.2646     97.098        0         0       98.5276  nan\n",
      "87.5579     97.5434      67.3767   25.0312  98.7475   36.5017\n",
      "91.7902     97.0639      69.7044   37.1879  98.4889   48.5004\n",
      "84.8871     98.7032      66.7219   27.5838  99.3446   39.0315\n",
      "82.0776     97.2856      60.0889   23.9292  98.6142   34.2278\n",
      "88.9608     97.3687      70.9898   31.3135  98.653    43.4578\n",
      "85.9443     98.6629      63.7624   41.5484  99.3224   50.3125\n",
      "93.0181     98.3726      58.3762   35.9039  99.1742   44.4618\n",
      "91.5067     96.2984      55.9538   48.9383  98.0746   52.2114\n",
      "89.5889     97.8658      66.632    28.1511  98.9137   39.5801\n"
     ]
    }
   ],
   "execution_count": 24
  },
  {
   "metadata": {},
   "cell_type": "code",
   "outputs": [],
   "execution_count": null,
   "source": ""
  }
 ],
 "metadata": {
  "kernelspec": {
   "name": "pyg253",
   "language": "python",
   "display_name": "pyg253"
  },
  "language_info": {
   "codemirror_mode": {
    "name": "ipython",
    "version": 2
   },
   "file_extension": ".py",
   "mimetype": "text/x-python",
   "name": "python",
   "nbconvert_exporter": "python",
   "pygments_lexer": "ipython2",
   "version": "2.7.6"
  }
 },
 "nbformat": 4,
 "nbformat_minor": 0
}
